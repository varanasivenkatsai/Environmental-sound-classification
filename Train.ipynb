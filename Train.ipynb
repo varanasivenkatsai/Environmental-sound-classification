{
 "cells": [
  {
   "cell_type": "code",
   "execution_count": 85,
   "metadata": {},
   "outputs": [],
   "source": [
    "%matplotlib inline\n",
    "from memory_profiler import memory_usage\n",
    "import os\n",
    "import pandas as pd\n",
    "from glob import glob\n",
    "import numpy as np"
   ]
  },
  {
   "cell_type": "code",
   "execution_count": 6,
   "metadata": {},
   "outputs": [],
   "source": [
    "%%capture\n",
    "!apt-get install libav-tools -y"
   ]
  },
  {
   "cell_type": "code",
   "execution_count": 7,
   "metadata": {},
   "outputs": [],
   "source": [
    "from keras import layers\n",
    "from keras import models\n",
    "from keras.layers.advanced_activations import LeakyReLU\n",
    "from keras.optimizers import Adam\n",
    "import keras.backend as K\n",
    "import librosa\n",
    "import librosa.display\n",
    "import pylab\n",
    "import matplotlib.pyplot as plt\n",
    "from matplotlib import figure\n",
    "import gc\n",
    "from path import Path"
   ]
  },
  {
   "cell_type": "code",
   "execution_count": 22,
   "metadata": {},
   "outputs": [],
   "source": [
    "def create_spectrogram(filename,name):\n",
    "    plt.interactive(False)\n",
    "    clip, sample_rate = librosa.load(filename, sr=None)\n",
    "    fig = plt.figure(figsize=[0.72,0.72])\n",
    "    ax = fig.add_subplot(111)\n",
    "    ax.axes.get_xaxis().set_visible(False)\n",
    "    ax.axes.get_yaxis().set_visible(False)\n",
    "    ax.set_frame_on(False)\n",
    "    S = librosa.feature.melspectrogram(y=clip, sr=sample_rate)\n",
    "    librosa.display.specshow(librosa.power_to_db(S, ref=np.max))\n",
    "    filename  = Path('C:/Users/varan/Documents/Sounddata/working/Train/'+name+'.jpg')\n",
    "    plt.savefig(filename, dpi=400, bbox_inches='tight',pad_inches=0)\n",
    "    plt.close()    \n",
    "    fig.clf()\n",
    "    plt.close(fig)\n",
    "    plt.close('all')\n",
    "    del filename,name,clip,sample_rate,fig,ax,S"
   ]
  },
  {
   "cell_type": "code",
   "execution_count": 23,
   "metadata": {},
   "outputs": [],
   "source": [
    "def create_spectrogram_test(filename,name):\n",
    "    plt.interactive(False)\n",
    "    clip, sample_rate = librosa.load(filename, sr=None)\n",
    "    fig = plt.figure(figsize=[0.72,0.72])\n",
    "    ax = fig.add_subplot(111)\n",
    "    ax.axes.get_xaxis().set_visible(False)\n",
    "    ax.axes.get_yaxis().set_visible(False)\n",
    "    ax.set_frame_on(False)\n",
    "    S = librosa.feature.melspectrogram(y=clip, sr=sample_rate)\n",
    "    librosa.display.specshow(librosa.power_to_db(S, ref=np.max))\n",
    "    filename  = Path('C:/Users/varan/Documents/Sounddata/working/Test/'+name+'.jpg')\n",
    "    plt.savefig(filename, dpi=400, bbox_inches='tight',pad_inches=0)\n",
    "    plt.close()    \n",
    "    fig.clf()\n",
    "    plt.close(fig)\n",
    "    plt.close('all')\n",
    "    del filename,name,clip,sample_rate,fig,ax,S"
   ]
  },
  {
   "cell_type": "code",
   "execution_count": 6,
   "metadata": {},
   "outputs": [],
   "source": [
    "Data_dir=np.array(glob(\"C:/Users/varan/Documents/Sounddata/Train/*\"))"
   ]
  },
  {
   "cell_type": "code",
   "execution_count": 7,
   "metadata": {},
   "outputs": [
    {
     "data": {
      "text/plain": [
       "(5435,)"
      ]
     },
     "execution_count": 7,
     "metadata": {},
     "output_type": "execute_result"
    }
   ],
   "source": [
    "np.shape(Data_dir)"
   ]
  },
  {
   "cell_type": "code",
   "execution_count": 8,
   "metadata": {},
   "outputs": [],
   "source": [
    "%load_ext memory_profiler\n"
   ]
  },
  {
   "cell_type": "code",
   "execution_count": 9,
   "metadata": {},
   "outputs": [
    {
     "name": "stdout",
     "output_type": "stream",
     "text": [
      "peak memory: 413.76 MiB, increment: 141.13 MiB\n"
     ]
    }
   ],
   "source": [
    "%%memit \n",
    "i=0\n",
    "for file in Data_dir[i:i+2000]:\n",
    "    #Define the filename as is, \"name\" refers to the JPG, and is split off into the number itself. \n",
    "    filename,name = file,file.split('/')[-1].split('\\\\')[-1].split('.')[0]\n",
    "    create_spectrogram(filename,name)"
   ]
  },
  {
   "cell_type": "code",
   "execution_count": 10,
   "metadata": {},
   "outputs": [
    {
     "data": {
      "text/plain": [
       "23895"
      ]
     },
     "execution_count": 10,
     "metadata": {},
     "output_type": "execute_result"
    }
   ],
   "source": [
    "gc.collect()"
   ]
  },
  {
   "cell_type": "code",
   "execution_count": 12,
   "metadata": {},
   "outputs": [
    {
     "name": "stdout",
     "output_type": "stream",
     "text": [
      "peak memory: 425.38 MiB, increment: 131.19 MiB\n"
     ]
    }
   ],
   "source": [
    "%%memit \n",
    "i=2000\n",
    "for file in Data_dir[i:i+2000]:\n",
    "    filename,name = file,file.split('/')[-1].split('\\\\')[-1].split('.')[0]\n",
    "    create_spectrogram(filename,name)"
   ]
  },
  {
   "cell_type": "code",
   "execution_count": 13,
   "metadata": {},
   "outputs": [
    {
     "data": {
      "text/plain": [
       "46296"
      ]
     },
     "execution_count": 13,
     "metadata": {},
     "output_type": "execute_result"
    }
   ],
   "source": [
    "gc.collect()\n"
   ]
  },
  {
   "cell_type": "code",
   "execution_count": 19,
   "metadata": {
    "scrolled": true
   },
   "outputs": [
    {
     "name": "stdout",
     "output_type": "stream",
     "text": [
      "peak memory: 383.81 MiB, increment: 123.34 MiB\n"
     ]
    }
   ],
   "source": [
    "%%memit \n",
    "i=4000\n",
    "for file in Data_dir[i:]:\n",
    "    filename,name = file,file.split('/')[-1].split('\\\\')[-1].split('.')[0]\n",
    "    create_spectrogram(filename,name)"
   ]
  },
  {
   "cell_type": "code",
   "execution_count": 20,
   "metadata": {
    "scrolled": true
   },
   "outputs": [
    {
     "data": {
      "text/plain": [
       "1318"
      ]
     },
     "execution_count": 20,
     "metadata": {},
     "output_type": "execute_result"
    }
   ],
   "source": [
    "gc.collect()"
   ]
  },
  {
   "cell_type": "code",
   "execution_count": 22,
   "metadata": {},
   "outputs": [],
   "source": [
    "Test_dir=np.array(glob(\"C:/Users/varan/Documents/Sounddata/Test/*\"))"
   ]
  },
  {
   "cell_type": "code",
   "execution_count": 23,
   "metadata": {},
   "outputs": [
    {
     "data": {
      "text/plain": [
       "(3297,)"
      ]
     },
     "execution_count": 23,
     "metadata": {},
     "output_type": "execute_result"
    }
   ],
   "source": [
    "np.shape(Test_dir)"
   ]
  },
  {
   "cell_type": "code",
   "execution_count": 24,
   "metadata": {},
   "outputs": [
    {
     "name": "stderr",
     "output_type": "stream",
     "text": [
      "C:\\Users\\varan\\Anaconda3\\lib\\site-packages\\librosa\\filters.py:284: UserWarning: Empty filters detected in mel frequency basis. Some channels will produce empty responses. Try increasing your sampling rate (and fmax) or reducing n_mels.\n",
      "  warnings.warn('Empty filters detected in mel frequency basis. '\n"
     ]
    },
    {
     "name": "stdout",
     "output_type": "stream",
     "text": [
      "peak memory: 383.91 MiB, increment: 131.77 MiB\n"
     ]
    }
   ],
   "source": [
    "%%memit \n",
    "i=0\n",
    "for file in Test_dir[i:i+1500]:\n",
    "    filename,name = file,file.split('/')[-1].split('\\\\')[-1].split('.')[0]\n",
    "    create_spectrogram_test(filename,name)"
   ]
  },
  {
   "cell_type": "code",
   "execution_count": 25,
   "metadata": {},
   "outputs": [
    {
     "data": {
      "text/plain": [
       "35049"
      ]
     },
     "execution_count": 25,
     "metadata": {},
     "output_type": "execute_result"
    }
   ],
   "source": [
    "gc.collect()"
   ]
  },
  {
   "cell_type": "code",
   "execution_count": 26,
   "metadata": {},
   "outputs": [
    {
     "name": "stdout",
     "output_type": "stream",
     "text": [
      "peak memory: 394.55 MiB, increment: 147.16 MiB\n"
     ]
    }
   ],
   "source": [
    "%%memit \n",
    "i=1500\n",
    "for file in Test_dir[i:]:\n",
    "    filename,name = file,file.split('/')[-1].split('\\\\')[-1].split('.')[0]\n",
    "    create_spectrogram_test(filename,name)"
   ]
  },
  {
   "cell_type": "code",
   "execution_count": 27,
   "metadata": {
    "scrolled": true
   },
   "outputs": [
    {
     "data": {
      "text/plain": [
       "49106"
      ]
     },
     "execution_count": 27,
     "metadata": {},
     "output_type": "execute_result"
    }
   ],
   "source": [
    "gc.collect()"
   ]
  },
  {
   "cell_type": "code",
   "execution_count": 8,
   "metadata": {},
   "outputs": [],
   "source": [
    "from keras_preprocessing.image import ImageDataGenerator\n",
    "def append_ext(fn):\n",
    "    return fn+\".jpg\""
   ]
  },
  {
   "cell_type": "code",
   "execution_count": 9,
   "metadata": {},
   "outputs": [],
   "source": [
    "traindf=pd.read_csv('C:/Users/varan/Documents/Sounddata/train.csv',dtype=str)\n",
    "testdf=pd.read_csv('C:/Users/varan/Documents/Sounddata/test.csv',dtype=str)\n",
    "traindf[\"ID\"]=traindf[\"ID\"].apply(append_ext)\n",
    "testdf[\"ID\"]=testdf[\"ID\"].apply(append_ext)"
   ]
  },
  {
   "cell_type": "code",
   "execution_count": 10,
   "metadata": {},
   "outputs": [],
   "source": [
    "datagen=ImageDataGenerator(rescale=1./255.,validation_split=0.25)\n"
   ]
  },
  {
   "cell_type": "code",
   "execution_count": 11,
   "metadata": {},
   "outputs": [
    {
     "name": "stdout",
     "output_type": "stream",
     "text": [
      "Found 4077 images belonging to 10 classes.\n"
     ]
    }
   ],
   "source": [
    "train_generator=datagen.flow_from_dataframe(\n",
    "    dataframe=traindf,\n",
    "    directory=\"C:/Users/varan/Documents/Sounddata/working/Train/\",\n",
    "    x_col=\"ID\",\n",
    "    y_col=\"Class\",\n",
    "    subset=\"training\",\n",
    "    batch_size=32,\n",
    "    seed=42,\n",
    "    shuffle=True,\n",
    "    class_mode=\"categorical\",\n",
    "    target_size=(64,64))"
   ]
  },
  {
   "cell_type": "code",
   "execution_count": 12,
   "metadata": {},
   "outputs": [
    {
     "name": "stdout",
     "output_type": "stream",
     "text": [
      "Found 1358 images belonging to 10 classes.\n"
     ]
    }
   ],
   "source": [
    "valid_generator=datagen.flow_from_dataframe(\n",
    "    dataframe=traindf,\n",
    "    directory=\"C:/Users/varan/Documents/Sounddata/working/Train/\",\n",
    "    x_col=\"ID\",\n",
    "    y_col=\"Class\",\n",
    "    subset=\"validation\",\n",
    "    batch_size=32,\n",
    "    seed=42,\n",
    "    shuffle=True,\n",
    "    class_mode=\"categorical\",\n",
    "    target_size=(64,64))"
   ]
  },
  {
   "cell_type": "code",
   "execution_count": 13,
   "metadata": {},
   "outputs": [],
   "source": [
    "from keras.layers import Dense, Activation, Flatten, Dropout, BatchNormalization\n",
    "from keras.models import Sequential, Model\n",
    "from keras.layers import Conv2D, MaxPooling2D\n",
    "from keras import regularizers, optimizers\n",
    "import pandas as pd\n",
    "import numpy as np"
   ]
  },
  {
   "cell_type": "code",
   "execution_count": 14,
   "metadata": {},
   "outputs": [
    {
     "name": "stdout",
     "output_type": "stream",
     "text": [
      "WARNING:tensorflow:From C:\\Users\\varan\\Anaconda3\\lib\\site-packages\\tensorflow\\python\\framework\\op_def_library.py:263: colocate_with (from tensorflow.python.framework.ops) is deprecated and will be removed in a future version.\n",
      "Instructions for updating:\n",
      "Colocations handled automatically by placer.\n",
      "WARNING:tensorflow:From C:\\Users\\varan\\Anaconda3\\lib\\site-packages\\keras\\backend\\tensorflow_backend.py:3445: calling dropout (from tensorflow.python.ops.nn_ops) with keep_prob is deprecated and will be removed in a future version.\n",
      "Instructions for updating:\n",
      "Please use `rate` instead of `keep_prob`. Rate should be set to `rate = 1 - keep_prob`.\n",
      "_________________________________________________________________\n",
      "Layer (type)                 Output Shape              Param #   \n",
      "=================================================================\n",
      "conv2d_1 (Conv2D)            (None, 64, 64, 32)        896       \n",
      "_________________________________________________________________\n",
      "activation_1 (Activation)    (None, 64, 64, 32)        0         \n",
      "_________________________________________________________________\n",
      "conv2d_2 (Conv2D)            (None, 62, 62, 64)        18496     \n",
      "_________________________________________________________________\n",
      "activation_2 (Activation)    (None, 62, 62, 64)        0         \n",
      "_________________________________________________________________\n",
      "max_pooling2d_1 (MaxPooling2 (None, 31, 31, 64)        0         \n",
      "_________________________________________________________________\n",
      "dropout_1 (Dropout)          (None, 31, 31, 64)        0         \n",
      "_________________________________________________________________\n",
      "conv2d_3 (Conv2D)            (None, 31, 31, 64)        36928     \n",
      "_________________________________________________________________\n",
      "activation_3 (Activation)    (None, 31, 31, 64)        0         \n",
      "_________________________________________________________________\n",
      "conv2d_4 (Conv2D)            (None, 29, 29, 64)        36928     \n",
      "_________________________________________________________________\n",
      "activation_4 (Activation)    (None, 29, 29, 64)        0         \n",
      "_________________________________________________________________\n",
      "max_pooling2d_2 (MaxPooling2 (None, 14, 14, 64)        0         \n",
      "_________________________________________________________________\n",
      "dropout_2 (Dropout)          (None, 14, 14, 64)        0         \n",
      "_________________________________________________________________\n",
      "conv2d_5 (Conv2D)            (None, 14, 14, 128)       73856     \n",
      "_________________________________________________________________\n",
      "activation_5 (Activation)    (None, 14, 14, 128)       0         \n",
      "_________________________________________________________________\n",
      "conv2d_6 (Conv2D)            (None, 12, 12, 128)       147584    \n",
      "_________________________________________________________________\n",
      "activation_6 (Activation)    (None, 12, 12, 128)       0         \n",
      "_________________________________________________________________\n",
      "max_pooling2d_3 (MaxPooling2 (None, 6, 6, 128)         0         \n",
      "_________________________________________________________________\n",
      "dropout_3 (Dropout)          (None, 6, 6, 128)         0         \n",
      "_________________________________________________________________\n",
      "flatten_1 (Flatten)          (None, 4608)              0         \n",
      "_________________________________________________________________\n",
      "dense_1 (Dense)              (None, 512)               2359808   \n",
      "_________________________________________________________________\n",
      "activation_7 (Activation)    (None, 512)               0         \n",
      "_________________________________________________________________\n",
      "dropout_4 (Dropout)          (None, 512)               0         \n",
      "_________________________________________________________________\n",
      "dense_2 (Dense)              (None, 10)                5130      \n",
      "=================================================================\n",
      "Total params: 2,679,626\n",
      "Trainable params: 2,679,626\n",
      "Non-trainable params: 0\n",
      "_________________________________________________________________\n"
     ]
    }
   ],
   "source": [
    "model = Sequential()\n",
    "model.add(Conv2D(32, (3, 3), padding='same',\n",
    "                 input_shape=(64,64,3)))\n",
    "model.add(Activation('relu'))\n",
    "model.add(Conv2D(64, (3, 3)))\n",
    "model.add(Activation('relu'))\n",
    "model.add(MaxPooling2D(pool_size=(2, 2)))\n",
    "model.add(Dropout(0.25))\n",
    "model.add(Conv2D(64, (3, 3), padding='same'))\n",
    "model.add(Activation('relu'))\n",
    "model.add(Conv2D(64, (3, 3)))\n",
    "model.add(Activation('relu'))\n",
    "model.add(MaxPooling2D(pool_size=(2, 2)))\n",
    "model.add(Dropout(0.5))\n",
    "model.add(Conv2D(128, (3, 3), padding='same'))\n",
    "model.add(Activation('relu'))\n",
    "model.add(Conv2D(128, (3, 3)))\n",
    "model.add(Activation('relu'))\n",
    "model.add(MaxPooling2D(pool_size=(2, 2)))\n",
    "model.add(Dropout(0.5))\n",
    "model.add(Flatten())\n",
    "model.add(Dense(512))\n",
    "model.add(Activation('relu'))\n",
    "model.add(Dropout(0.5))\n",
    "model.add(Dense(10, activation='softmax'))\n",
    "model.compile(optimizers.rmsprop(lr=0.0005, decay=1e-6),loss=\"categorical_crossentropy\",metrics=[\"accuracy\"])\n",
    "model.summary()"
   ]
  },
  {
   "cell_type": "code",
   "execution_count": 15,
   "metadata": {},
   "outputs": [
    {
     "name": "stdout",
     "output_type": "stream",
     "text": [
      "WARNING:tensorflow:From C:\\Users\\varan\\Anaconda3\\lib\\site-packages\\tensorflow\\python\\ops\\math_ops.py:3066: to_int32 (from tensorflow.python.ops.math_ops) is deprecated and will be removed in a future version.\n",
      "Instructions for updating:\n",
      "Use tf.cast instead.\n",
      "Epoch 1/150\n",
      "127/127 [==============================] - 27s 209ms/step - loss: 2.0767 - acc: 0.2215 - val_loss: 1.9476 - val_acc: 0.3073\n",
      "Epoch 2/150\n",
      "127/127 [==============================] - 15s 115ms/step - loss: 1.7984 - acc: 0.3574 - val_loss: 1.5429 - val_acc: 0.4932\n",
      "Epoch 3/150\n",
      "127/127 [==============================] - 14s 109ms/step - loss: 1.3899 - acc: 0.5148 - val_loss: 1.1272 - val_acc: 0.6056\n",
      "Epoch 4/150\n",
      "127/127 [==============================] - 14s 111ms/step - loss: 1.1267 - acc: 0.6025 - val_loss: 0.9892 - val_acc: 0.6554\n",
      "Epoch 5/150\n",
      "127/127 [==============================] - 14s 111ms/step - loss: 0.9394 - acc: 0.6853 - val_loss: 0.7951 - val_acc: 0.7443\n",
      "Epoch 6/150\n",
      "127/127 [==============================] - 17s 130ms/step - loss: 0.8178 - acc: 0.7293 - val_loss: 0.6886 - val_acc: 0.7783\n",
      "Epoch 7/150\n",
      "127/127 [==============================] - 17s 130ms/step - loss: 0.7051 - acc: 0.7719 - val_loss: 0.6270 - val_acc: 0.7979\n",
      "Epoch 8/150\n",
      "127/127 [==============================] - 16s 124ms/step - loss: 0.6106 - acc: 0.8063 - val_loss: 0.5367 - val_acc: 0.8145\n",
      "Epoch 9/150\n",
      "127/127 [==============================] - 14s 110ms/step - loss: 0.5095 - acc: 0.8283 - val_loss: 0.5019 - val_acc: 0.8537\n",
      "Epoch 10/150\n",
      "127/127 [==============================] - 15s 120ms/step - loss: 0.4585 - acc: 0.8468 - val_loss: 0.4349 - val_acc: 0.8575\n",
      "Epoch 11/150\n",
      "127/127 [==============================] - 15s 117ms/step - loss: 0.4164 - acc: 0.8660 - val_loss: 0.5113 - val_acc: 0.8469\n",
      "Epoch 12/150\n",
      "127/127 [==============================] - 14s 107ms/step - loss: 0.3719 - acc: 0.8810 - val_loss: 0.5061 - val_acc: 0.8537\n",
      "Epoch 13/150\n",
      "127/127 [==============================] - 14s 110ms/step - loss: 0.3357 - acc: 0.8905 - val_loss: 0.4259 - val_acc: 0.8695\n",
      "Epoch 14/150\n",
      "127/127 [==============================] - 14s 109ms/step - loss: 0.3211 - acc: 0.8945 - val_loss: 0.4056 - val_acc: 0.8695\n",
      "Epoch 15/150\n",
      "127/127 [==============================] - 13s 106ms/step - loss: 0.2776 - acc: 0.9126 - val_loss: 0.4169 - val_acc: 0.8914\n",
      "Epoch 16/150\n",
      "127/127 [==============================] - 14s 107ms/step - loss: 0.2608 - acc: 0.9146 - val_loss: 0.3602 - val_acc: 0.9012\n",
      "Epoch 17/150\n",
      "127/127 [==============================] - 14s 106ms/step - loss: 0.2483 - acc: 0.9226 - val_loss: 0.4203 - val_acc: 0.8876\n",
      "Epoch 18/150\n",
      "127/127 [==============================] - 14s 109ms/step - loss: 0.2169 - acc: 0.9259 - val_loss: 0.3489 - val_acc: 0.8967\n",
      "Epoch 19/150\n",
      "127/127 [==============================] - 14s 108ms/step - loss: 0.2203 - acc: 0.9294 - val_loss: 0.5217 - val_acc: 0.8763\n",
      "Epoch 20/150\n",
      "127/127 [==============================] - 13s 106ms/step - loss: 0.1957 - acc: 0.9373 - val_loss: 0.4290 - val_acc: 0.8959\n",
      "Epoch 21/150\n",
      "127/127 [==============================] - 14s 111ms/step - loss: 0.1979 - acc: 0.9344 - val_loss: 0.3586 - val_acc: 0.9178\n",
      "Epoch 22/150\n",
      "127/127 [==============================] - 14s 108ms/step - loss: 0.1715 - acc: 0.9443 - val_loss: 0.4607 - val_acc: 0.887632 - acc: 0.\n",
      "Epoch 23/150\n",
      "127/127 [==============================] - 13s 106ms/step - loss: 0.1667 - acc: 0.9422 - val_loss: 0.3410 - val_acc: 0.9110\n",
      "Epoch 24/150\n",
      "127/127 [==============================] - 14s 107ms/step - loss: 0.1682 - acc: 0.9465 - val_loss: 0.3942 - val_acc: 0.9080\n",
      "Epoch 25/150\n",
      "127/127 [==============================] - 14s 107ms/step - loss: 0.1481 - acc: 0.9520 - val_loss: 0.3680 - val_acc: 0.9133\n",
      "Epoch 26/150\n",
      "127/127 [==============================] - 14s 109ms/step - loss: 0.1382 - acc: 0.9562 - val_loss: 0.3135 - val_acc: 0.9359\n",
      "Epoch 27/150\n",
      "127/127 [==============================] - 14s 107ms/step - loss: 0.1410 - acc: 0.9549 - val_loss: 0.3894 - val_acc: 0.9050\n",
      "Epoch 28/150\n",
      "127/127 [==============================] - 13s 106ms/step - loss: 0.1429 - acc: 0.9549 - val_loss: 0.3103 - val_acc: 0.9193\n",
      "Epoch 29/150\n",
      "127/127 [==============================] - 13s 106ms/step - loss: 0.1153 - acc: 0.9628 - val_loss: 0.3998 - val_acc: 0.9186\n",
      "Epoch 30/150\n",
      "127/127 [==============================] - 13s 106ms/step - loss: 0.1272 - acc: 0.9627 - val_loss: 0.3641 - val_acc: 0.9186\n",
      "Epoch 31/150\n",
      "127/127 [==============================] - 13s 106ms/step - loss: 0.1153 - acc: 0.9636 - val_loss: 0.2837 - val_acc: 0.9321\n",
      "Epoch 32/150\n",
      "127/127 [==============================] - 13s 106ms/step - loss: 0.1054 - acc: 0.9605 - val_loss: 0.3713 - val_acc: 0.9336\n",
      "Epoch 33/150\n",
      "127/127 [==============================] - 14s 109ms/step - loss: 0.1193 - acc: 0.9642 - val_loss: 0.3800 - val_acc: 0.9193\n",
      "Epoch 34/150\n",
      "127/127 [==============================] - 13s 106ms/step - loss: 0.1024 - acc: 0.9651 - val_loss: 0.2974 - val_acc: 0.9351\n",
      "Epoch 35/150\n",
      "127/127 [==============================] - 14s 111ms/step - loss: 0.0939 - acc: 0.9687 - val_loss: 0.4177 - val_acc: 0.9246\n",
      "Epoch 36/150\n",
      "127/127 [==============================] - 15s 118ms/step - loss: 0.1003 - acc: 0.9691 - val_loss: 0.3723 - val_acc: 0.9321\n",
      "Epoch 37/150\n",
      "127/127 [==============================] - 14s 114ms/step - loss: 0.1130 - acc: 0.9646 - val_loss: 0.2783 - val_acc: 0.9359\n",
      "Epoch 38/150\n",
      "127/127 [==============================] - 14s 110ms/step - loss: 0.0922 - acc: 0.9689 - val_loss: 0.4146 - val_acc: 0.9208\n",
      "Epoch 39/150\n",
      "127/127 [==============================] - 14s 114ms/step - loss: 0.0968 - acc: 0.9719 - val_loss: 0.3978 - val_acc: 0.9329\n",
      "Epoch 40/150\n",
      "127/127 [==============================] - 14s 109ms/step - loss: 0.0783 - acc: 0.9758 - val_loss: 0.5652 - val_acc: 0.9163\n",
      "Epoch 41/150\n",
      "127/127 [==============================] - 14s 109ms/step - loss: 0.0941 - acc: 0.9723 - val_loss: 0.4045 - val_acc: 0.9261\n",
      "Epoch 42/150\n",
      "127/127 [==============================] - 14s 108ms/step - loss: 0.0963 - acc: 0.9726 - val_loss: 0.4366 - val_acc: 0.9208\n",
      "Epoch 43/150\n",
      "127/127 [==============================] - 14s 110ms/step - loss: 0.0990 - acc: 0.9751 - val_loss: 0.3879 - val_acc: 0.9231\n",
      "Epoch 44/150\n",
      "127/127 [==============================] - 14s 108ms/step - loss: 0.1129 - acc: 0.9685 - val_loss: 0.3218 - val_acc: 0.9315\n",
      "Epoch 45/150\n",
      "127/127 [==============================] - 14s 108ms/step - loss: 0.0853 - acc: 0.9723 - val_loss: 0.4459 - val_acc: 0.9178\n",
      "Epoch 46/150\n",
      "127/127 [==============================] - 14s 110ms/step - loss: 0.0913 - acc: 0.9729 - val_loss: 0.6235 - val_acc: 0.9042\n",
      "Epoch 47/150\n",
      "127/127 [==============================] - 15s 115ms/step - loss: 0.0949 - acc: 0.9747 - val_loss: 0.4282 - val_acc: 0.9253\n",
      "Epoch 48/150\n",
      "127/127 [==============================] - 14s 110ms/step - loss: 0.0808 - acc: 0.9758 - val_loss: 0.3826 - val_acc: 0.9306\n",
      "Epoch 49/150\n",
      "127/127 [==============================] - 14s 109ms/step - loss: 0.0756 - acc: 0.9776 - val_loss: 0.3858 - val_acc: 0.9246\n",
      "Epoch 50/150\n",
      "127/127 [==============================] - 14s 108ms/step - loss: 0.0658 - acc: 0.9796 - val_loss: 0.5371 - val_acc: 0.9125\n",
      "Epoch 51/150\n",
      "127/127 [==============================] - 14s 111ms/step - loss: 0.0808 - acc: 0.9759 - val_loss: 0.4981 - val_acc: 0.9186\n",
      "Epoch 52/150\n",
      "127/127 [==============================] - 14s 111ms/step - loss: 0.0807 - acc: 0.9764 - val_loss: 0.5159 - val_acc: 0.9291\n",
      "Epoch 53/150\n",
      "127/127 [==============================] - 14s 112ms/step - loss: 0.0870 - acc: 0.9761 - val_loss: 0.4261 - val_acc: 0.9118\n",
      "Epoch 54/150\n",
      "127/127 [==============================] - 14s 109ms/step - loss: 0.0776 - acc: 0.9774 - val_loss: 0.5369 - val_acc: 0.9133\n",
      "Epoch 55/150\n",
      "127/127 [==============================] - 14s 107ms/step - loss: 0.0773 - acc: 0.9764 - val_loss: 0.5920 - val_acc: 0.9118\n",
      "Epoch 56/150\n",
      "127/127 [==============================] - 14s 110ms/step - loss: 0.0843 - acc: 0.9749 - val_loss: 0.4161 - val_acc: 0.9299\n",
      "Epoch 57/150\n",
      "127/127 [==============================] - 14s 114ms/step - loss: 0.0678 - acc: 0.9812 - val_loss: 0.7676 - val_acc: 0.9057\n",
      "Epoch 58/150\n",
      "127/127 [==============================] - 14s 107ms/step - loss: 0.0750 - acc: 0.9813 - val_loss: 0.5608 - val_acc: 0.9246\n"
     ]
    },
    {
     "name": "stdout",
     "output_type": "stream",
     "text": [
      "Epoch 59/150\n",
      "127/127 [==============================] - 14s 107ms/step - loss: 0.0692 - acc: 0.9798 - val_loss: 0.3957 - val_acc: 0.9246\n",
      "Epoch 60/150\n",
      "127/127 [==============================] - 14s 111ms/step - loss: 0.0831 - acc: 0.9774 - val_loss: 0.4544 - val_acc: 0.9231\n",
      "Epoch 61/150\n",
      "127/127 [==============================] - 14s 107ms/step - loss: 0.0786 - acc: 0.9780 - val_loss: 0.4102 - val_acc: 0.9306\n",
      "Epoch 62/150\n",
      "127/127 [==============================] - 14s 111ms/step - loss: 0.0606 - acc: 0.9793 - val_loss: 0.4526 - val_acc: 0.9276\n",
      "Epoch 63/150\n",
      "127/127 [==============================] - 14s 108ms/step - loss: 0.0773 - acc: 0.9766 - val_loss: 0.3257 - val_acc: 0.9306\n",
      "Epoch 64/150\n",
      "127/127 [==============================] - 14s 110ms/step - loss: 0.0629 - acc: 0.9801 - val_loss: 0.4897 - val_acc: 0.9140\n",
      "Epoch 65/150\n",
      "127/127 [==============================] - 14s 109ms/step - loss: 0.0616 - acc: 0.9827 - val_loss: 0.3432 - val_acc: 0.9412\n",
      "Epoch 66/150\n",
      "127/127 [==============================] - 14s 109ms/step - loss: 0.0606 - acc: 0.9835 - val_loss: 0.3906 - val_acc: 0.9336\n",
      "Epoch 67/150\n",
      "127/127 [==============================] - 14s 108ms/step - loss: 0.0755 - acc: 0.9803 - val_loss: 0.5425 - val_acc: 0.9246\n",
      "Epoch 68/150\n",
      "127/127 [==============================] - 14s 108ms/step - loss: 0.0722 - acc: 0.9779 - val_loss: 0.3615 - val_acc: 0.9359\n",
      "Epoch 69/150\n",
      "127/127 [==============================] - 14s 109ms/step - loss: 0.0845 - acc: 0.9791 - val_loss: 0.3663 - val_acc: 0.9359\n",
      "Epoch 70/150\n",
      "127/127 [==============================] - 14s 108ms/step - loss: 0.0537 - acc: 0.9835 - val_loss: 0.4005 - val_acc: 0.9374\n",
      "Epoch 71/150\n",
      "127/127 [==============================] - 14s 108ms/step - loss: 0.0842 - acc: 0.9791 - val_loss: 0.4062 - val_acc: 0.9374\n",
      "Epoch 72/150\n",
      "127/127 [==============================] - 14s 107ms/step - loss: 0.0658 - acc: 0.9840 - val_loss: 0.6841 - val_acc: 0.9133\n",
      "Epoch 73/150\n",
      "127/127 [==============================] - 14s 109ms/step - loss: 0.0678 - acc: 0.9825 - val_loss: 0.3664 - val_acc: 0.9344\n",
      "Epoch 74/150\n",
      "127/127 [==============================] - 15s 115ms/step - loss: 0.0788 - acc: 0.9803 - val_loss: 0.5047 - val_acc: 0.9306\n",
      "Epoch 75/150\n",
      "127/127 [==============================] - 14s 107ms/step - loss: 0.0678 - acc: 0.9844 - val_loss: 0.3453 - val_acc: 0.9397\n",
      "Epoch 76/150\n",
      "127/127 [==============================] - 14s 107ms/step - loss: 0.0672 - acc: 0.9834 - val_loss: 0.4428 - val_acc: 0.9314\n",
      "Epoch 77/150\n",
      "127/127 [==============================] - 14s 110ms/step - loss: 0.0727 - acc: 0.9835 - val_loss: 0.4204 - val_acc: 0.9397\n",
      "Epoch 78/150\n",
      "127/127 [==============================] - 15s 115ms/step - loss: 0.0686 - acc: 0.9811 - val_loss: 0.3702 - val_acc: 0.9397\n",
      "Epoch 79/150\n",
      "127/127 [==============================] - 14s 108ms/step - loss: 0.0846 - acc: 0.9804 - val_loss: 0.3908 - val_acc: 0.9367\n",
      "Epoch 80/150\n",
      "127/127 [==============================] - 14s 108ms/step - loss: 0.0694 - acc: 0.9807 - val_loss: 0.4267 - val_acc: 0.9412\n",
      "Epoch 81/150\n",
      "127/127 [==============================] - 14s 111ms/step - loss: 0.0612 - acc: 0.9835 - val_loss: 0.4946 - val_acc: 0.9336\n",
      "Epoch 82/150\n",
      "127/127 [==============================] - 14s 112ms/step - loss: 0.0584 - acc: 0.9845 - val_loss: 0.7610 - val_acc: 0.9155\n",
      "Epoch 83/150\n",
      "127/127 [==============================] - 14s 111ms/step - loss: 0.0751 - acc: 0.9825 - val_loss: 0.5074 - val_acc: 0.9412\n",
      "Epoch 84/150\n",
      "127/127 [==============================] - 14s 108ms/step - loss: 0.0736 - acc: 0.9817 - val_loss: 0.4703 - val_acc: 0.9321\n",
      "Epoch 85/150\n",
      "127/127 [==============================] - 14s 108ms/step - loss: 0.0839 - acc: 0.9811 - val_loss: 0.5813 - val_acc: 0.9193\n",
      "Epoch 86/150\n",
      "127/127 [==============================] - 15s 118ms/step - loss: 0.0728 - acc: 0.9823 - val_loss: 0.3922 - val_acc: 0.9261\n",
      "Epoch 87/150\n",
      "127/127 [==============================] - 14s 110ms/step - loss: 0.0822 - acc: 0.9784 - val_loss: 0.4530 - val_acc: 0.9375\n",
      "Epoch 88/150\n",
      "127/127 [==============================] - 14s 109ms/step - loss: 0.0790 - acc: 0.9817 - val_loss: 0.4209 - val_acc: 0.9351\n",
      "Epoch 89/150\n",
      "127/127 [==============================] - 14s 112ms/step - loss: 0.0773 - acc: 0.9826 - val_loss: 0.5562 - val_acc: 0.9253\n",
      "Epoch 90/150\n",
      "127/127 [==============================] - 14s 109ms/step - loss: 0.1035 - acc: 0.9786 - val_loss: 0.4524 - val_acc: 0.9223\n",
      "Epoch 91/150\n",
      "127/127 [==============================] - 14s 109ms/step - loss: 0.0790 - acc: 0.9814 - val_loss: 0.4585 - val_acc: 0.9329\n",
      "Epoch 92/150\n",
      "127/127 [==============================] - 14s 108ms/step - loss: 0.1006 - acc: 0.9817 - val_loss: 0.4885 - val_acc: 0.9344\n",
      "Epoch 93/150\n",
      "127/127 [==============================] - 14s 109ms/step - loss: 0.0755 - acc: 0.9838 - val_loss: 0.4553 - val_acc: 0.9457\n",
      "Epoch 94/150\n",
      "127/127 [==============================] - 14s 109ms/step - loss: 0.0741 - acc: 0.9838 - val_loss: 0.4235 - val_acc: 0.9321\n",
      "Epoch 95/150\n",
      "127/127 [==============================] - 14s 110ms/step - loss: 0.0989 - acc: 0.9764 - val_loss: 0.4506 - val_acc: 0.9268\n",
      "Epoch 96/150\n",
      "127/127 [==============================] - 14s 110ms/step - loss: 0.0767 - acc: 0.9825 - val_loss: 0.5971 - val_acc: 0.9306\n",
      "Epoch 97/150\n",
      "127/127 [==============================] - 14s 112ms/step - loss: 0.0716 - acc: 0.9840 - val_loss: 0.6271 - val_acc: 0.9125\n",
      "Epoch 98/150\n",
      "127/127 [==============================] - 15s 116ms/step - loss: 0.0842 - acc: 0.9809 - val_loss: 0.4388 - val_acc: 0.9374\n",
      "Epoch 99/150\n",
      "127/127 [==============================] - 14s 111ms/step - loss: 0.0884 - acc: 0.9825 - val_loss: 0.6328 - val_acc: 0.9201\n",
      "Epoch 100/150\n",
      "127/127 [==============================] - 14s 108ms/step - loss: 0.0660 - acc: 0.9823 - val_loss: 0.5744 - val_acc: 0.9178\n",
      "Epoch 101/150\n",
      "127/127 [==============================] - 14s 107ms/step - loss: 0.0854 - acc: 0.9825 - val_loss: 0.5499 - val_acc: 0.9170\n",
      "Epoch 102/150\n",
      "127/127 [==============================] - 14s 107ms/step - loss: 0.0908 - acc: 0.9796 - val_loss: 0.4423 - val_acc: 0.9389\n",
      "Epoch 103/150\n",
      "127/127 [==============================] - 14s 112ms/step - loss: 0.0922 - acc: 0.9807 - val_loss: 0.4378 - val_acc: 0.9291\n",
      "Epoch 104/150\n",
      "127/127 [==============================] - 14s 108ms/step - loss: 0.0699 - acc: 0.9840 - val_loss: 0.5277 - val_acc: 0.9382\n",
      "Epoch 105/150\n",
      "127/127 [==============================] - 14s 108ms/step - loss: 0.0923 - acc: 0.9793 - val_loss: 0.4439 - val_acc: 0.9284\n",
      "Epoch 106/150\n",
      "127/127 [==============================] - 14s 108ms/step - loss: 0.0913 - acc: 0.9792 - val_loss: 0.4801 - val_acc: 0.9465\n",
      "Epoch 107/150\n",
      "127/127 [==============================] - 14s 109ms/step - loss: 0.0903 - acc: 0.9811 - val_loss: 0.5143 - val_acc: 0.9276\n",
      "Epoch 108/150\n",
      "127/127 [==============================] - 14s 107ms/step - loss: 0.0584 - acc: 0.9872 - val_loss: 0.8556 - val_acc: 0.9261\n",
      "Epoch 109/150\n",
      "127/127 [==============================] - 14s 108ms/step - loss: 0.0927 - acc: 0.9813 - val_loss: 0.3801 - val_acc: 0.9374\n",
      "Epoch 110/150\n",
      "127/127 [==============================] - 14s 108ms/step - loss: 0.0887 - acc: 0.9804 - val_loss: 0.5025 - val_acc: 0.9374\n",
      "Epoch 111/150\n",
      "127/127 [==============================] - 14s 107ms/step - loss: 0.0702 - acc: 0.9811 - val_loss: 0.3871 - val_acc: 0.9412\n",
      "Epoch 112/150\n",
      "127/127 [==============================] - 13s 106ms/step - loss: 0.1132 - acc: 0.9796 - val_loss: 0.5020 - val_acc: 0.9344\n",
      "Epoch 113/150\n",
      "127/127 [==============================] - 14s 108ms/step - loss: 0.0830 - acc: 0.9843 - val_loss: 0.4607 - val_acc: 0.9389\n",
      "Epoch 114/150\n",
      "127/127 [==============================] - 14s 108ms/step - loss: 0.0806 - acc: 0.9820 - val_loss: 0.4733 - val_acc: 0.9389\n",
      "Epoch 115/150\n",
      "127/127 [==============================] - 14s 107ms/step - loss: 0.1083 - acc: 0.9793 - val_loss: 0.6054 - val_acc: 0.9306\n",
      "Epoch 116/150\n",
      "127/127 [==============================] - 14s 109ms/step - loss: 0.1019 - acc: 0.9783 - val_loss: 0.4906 - val_acc: 0.9087\n",
      "Epoch 117/150\n",
      "127/127 [==============================] - 14s 106ms/step - loss: 0.1007 - acc: 0.9806 - val_loss: 0.5216 - val_acc: 0.9336\n",
      "Epoch 118/150\n"
     ]
    },
    {
     "name": "stdout",
     "output_type": "stream",
     "text": [
      "127/127 [==============================] - 14s 107ms/step - loss: 0.0958 - acc: 0.9796 - val_loss: 0.6107 - val_acc: 0.9359\n",
      "Epoch 119/150\n",
      "127/127 [==============================] - 13s 105ms/step - loss: 0.1099 - acc: 0.9811 - val_loss: 0.4677 - val_acc: 0.9397\n",
      "Epoch 120/150\n",
      "127/127 [==============================] - 14s 106ms/step - loss: 0.0849 - acc: 0.9839 - val_loss: 0.6069 - val_acc: 0.9216\n",
      "Epoch 121/150\n",
      "127/127 [==============================] - 14s 107ms/step - loss: 0.1353 - acc: 0.9773 - val_loss: 0.7038 - val_acc: 0.9238\n",
      "Epoch 122/150\n",
      "127/127 [==============================] - 14s 107ms/step - loss: 0.1364 - acc: 0.9774 - val_loss: 0.4590 - val_acc: 0.9449\n",
      "Epoch 123/150\n",
      "127/127 [==============================] - 14s 107ms/step - loss: 0.0885 - acc: 0.9833 - val_loss: 0.6545 - val_acc: 0.9306\n",
      "Epoch 124/150\n",
      "127/127 [==============================] - 14s 108ms/step - loss: 0.1175 - acc: 0.9806 - val_loss: 0.6102 - val_acc: 0.9321\n",
      "Epoch 125/150\n",
      "127/127 [==============================] - 14s 107ms/step - loss: 0.0883 - acc: 0.9843 - val_loss: 0.7180 - val_acc: 0.9238\n",
      "Epoch 126/150\n",
      "127/127 [==============================] - 14s 107ms/step - loss: 0.1246 - acc: 0.9815 - val_loss: 0.5389 - val_acc: 0.9367\n",
      "Epoch 127/150\n",
      "127/127 [==============================] - 14s 108ms/step - loss: 0.1020 - acc: 0.9820 - val_loss: 0.5084 - val_acc: 0.9336\n",
      "Epoch 128/150\n",
      "127/127 [==============================] - 14s 106ms/step - loss: 0.0991 - acc: 0.9834 - val_loss: 0.8123 - val_acc: 0.9208\n",
      "Epoch 129/150\n",
      "127/127 [==============================] - 14s 107ms/step - loss: 0.1101 - acc: 0.9828 - val_loss: 0.7634 - val_acc: 0.9148\n",
      "Epoch 130/150\n",
      "127/127 [==============================] - 14s 107ms/step - loss: 0.1112 - acc: 0.9806 - val_loss: 0.4686 - val_acc: 0.9375\n",
      "Epoch 131/150\n",
      "127/127 [==============================] - 14s 107ms/step - loss: 0.1255 - acc: 0.9803 - val_loss: 0.5583 - val_acc: 0.9238\n",
      "Epoch 132/150\n",
      "127/127 [==============================] - 14s 108ms/step - loss: 0.1102 - acc: 0.9808 - val_loss: 0.5642 - val_acc: 0.9268\n",
      "Epoch 133/150\n",
      "127/127 [==============================] - 14s 107ms/step - loss: 0.1121 - acc: 0.9803 - val_loss: 0.3897 - val_acc: 0.9442\n",
      "Epoch 134/150\n",
      "127/127 [==============================] - 14s 109ms/step - loss: 0.1058 - acc: 0.9852 - val_loss: 0.4888 - val_acc: 0.9306\n",
      "Epoch 135/150\n",
      "127/127 [==============================] - 14s 108ms/step - loss: 0.1072 - acc: 0.9824 - val_loss: 0.4584 - val_acc: 0.9344\n",
      "Epoch 136/150\n",
      "127/127 [==============================] - 14s 108ms/step - loss: 0.1013 - acc: 0.9803 - val_loss: 0.3772 - val_acc: 0.9336\n",
      "Epoch 137/150\n",
      "127/127 [==============================] - 14s 107ms/step - loss: 0.1048 - acc: 0.9801 - val_loss: 0.6136 - val_acc: 0.9253\n",
      "Epoch 138/150\n",
      "127/127 [==============================] - 14s 107ms/step - loss: 0.1343 - acc: 0.9796 - val_loss: 0.6476 - val_acc: 0.9336\n",
      "Epoch 139/150\n",
      "127/127 [==============================] - 14s 107ms/step - loss: 0.1579 - acc: 0.9783 - val_loss: 0.7782 - val_acc: 0.9321\n",
      "Epoch 140/150\n",
      "127/127 [==============================] - 14s 107ms/step - loss: 0.1160 - acc: 0.9820 - val_loss: 0.6406 - val_acc: 0.9321\n",
      "Epoch 141/150\n",
      "127/127 [==============================] - 13s 106ms/step - loss: 0.1566 - acc: 0.9793 - val_loss: 0.9061 - val_acc: 0.9231\n",
      "Epoch 142/150\n",
      "127/127 [==============================] - 14s 107ms/step - loss: 0.1882 - acc: 0.9745 - val_loss: 0.5676 - val_acc: 0.9299\n",
      "Epoch 143/150\n",
      "127/127 [==============================] - 13s 106ms/step - loss: 0.0978 - acc: 0.9811 - val_loss: 0.8685 - val_acc: 0.9148\n",
      "Epoch 144/150\n",
      "127/127 [==============================] - 14s 107ms/step - loss: 0.1387 - acc: 0.9803 - val_loss: 0.5218 - val_acc: 0.9291\n",
      "Epoch 145/150\n",
      "127/127 [==============================] - 14s 107ms/step - loss: 0.1231 - acc: 0.9771 - val_loss: 0.4698 - val_acc: 0.9329\n",
      "Epoch 146/150\n",
      "127/127 [==============================] - 14s 109ms/step - loss: 0.1429 - acc: 0.9779 - val_loss: 0.4440 - val_acc: 0.9351\n",
      "Epoch 147/150\n",
      "127/127 [==============================] - 14s 109ms/step - loss: 0.1435 - acc: 0.9786 - val_loss: 0.6117 - val_acc: 0.9329\n",
      "Epoch 148/150\n",
      "127/127 [==============================] - 15s 116ms/step - loss: 0.1248 - acc: 0.9813 - val_loss: 0.6407 - val_acc: 0.9276\n",
      "Epoch 149/150\n",
      "127/127 [==============================] - 14s 112ms/step - loss: 0.1496 - acc: 0.9764 - val_loss: 0.5743 - val_acc: 0.9291\n",
      "Epoch 150/150\n",
      "127/127 [==============================] - 14s 107ms/step - loss: 0.1148 - acc: 0.9813 - val_loss: 0.6500 - val_acc: 0.9314\n"
     ]
    }
   ],
   "source": [
    "#Fitting keras model, no test gen for now\n",
    "STEP_SIZE_TRAIN=train_generator.n//train_generator.batch_size\n",
    "STEP_SIZE_VALID=valid_generator.n//valid_generator.batch_size\n",
    "#STEP_SIZE_TEST=test_generator.n//test_generator.batch_size\n",
    "A=model.fit_generator(generator=train_generator,\n",
    "                    steps_per_epoch=STEP_SIZE_TRAIN,\n",
    "                    validation_data=valid_generator,\n",
    "                    validation_steps=STEP_SIZE_VALID,\n",
    "                    epochs=150\n",
    ")\n",
    "B=model.evaluate_generator(generator=valid_generator, steps=STEP_SIZE_VALID\n",
    ")"
   ]
  },
  {
   "cell_type": "code",
   "execution_count": 16,
   "metadata": {},
   "outputs": [
    {
     "name": "stdout",
     "output_type": "stream",
     "text": [
      "dict_keys(['val_loss', 'val_acc', 'loss', 'acc'])\n"
     ]
    }
   ],
   "source": [
    "print(A.history.keys())"
   ]
  },
  {
   "cell_type": "code",
   "execution_count": 17,
   "metadata": {},
   "outputs": [
    {
     "data": {
      "image/png": "[encoded data removed]",
      "text/plain": [
       "<Figure size 432x288 with 1 Axes>"
      ]
     },
     "metadata": {
      "needs_background": "light"
     },
     "output_type": "display_data"
    }
   ],
   "source": [
    "import matplotlib.pyplot as plt\n",
    "plt.plot(A.history['acc'])\n",
    "plt.plot(A.history['val_acc'])\n",
    "plt.title('model accuracy')\n",
    "plt.ylabel('accuracy')\n",
    "plt.xlabel('epoch')\n",
    "plt.legend(['train', 'test'], loc='upper left')\n",
    "plt.show()"
   ]
  },
  {
   "cell_type": "code",
   "execution_count": 87,
   "metadata": {},
   "outputs": [
    {
     "name": "stdout",
     "output_type": "stream",
     "text": [
      "Found 3297 images.\n"
     ]
    }
   ],
   "source": [
    "test_datagen=ImageDataGenerator(rescale=1./255.)\n",
    "test_generator=test_datagen.flow_from_dataframe(\n",
    "    dataframe=testdf,\n",
    "    directory=\"C:/Users/varan/Documents/Sounddata/working/Test/\",\n",
    "    x_col=\"ID\",\n",
    "    y_col=None,\n",
    "    batch_size=32,\n",
    "    seed=42,\n",
    "    shuffle=False,\n",
    "    class_mode=None,\n",
    "    target_size=(64,64))\n",
    "STEP_SIZE_TEST=test_generator.n//test_generator.batch_size"
   ]
  },
  {
   "cell_type": "code",
   "execution_count": 88,
   "metadata": {},
   "outputs": [
    {
     "name": "stdout",
     "output_type": "stream",
     "text": [
      "103/103 [==============================] - 12s 116ms/step\n",
      "(3296, 10)\n",
      "['jackhammer']\n"
     ]
    }
   ],
   "source": [
    "test_generator.reset()\n",
    "pred=model.predict_generator(test_generator,\n",
    "steps=STEP_SIZE_TEST,\n",
    "verbose=1)\n",
    "print(np.shape(pred))\n",
    "predicted_class_indices=np.argmax(pred,axis=1)\n",
    "\n",
    "#Fetch labels from train gen for testing\n",
    "labels = (train_generator.class_indices)\n",
    "labels = dict((v,k) for k,v in labels.items())\n",
    "predictions = [labels[k] for k in predicted_class_indices]\n",
    "print(predictions[0:1])"
   ]
  },
  {
   "cell_type": "code",
   "execution_count": null,
   "metadata": {},
   "outputs": [],
   "source": []
  }
 ],
 "metadata": {
  "kernelspec": {
   "display_name": "Python 3",
   "language": "python",
   "name": "python3"
  },
  "language_info": {
   "codemirror_mode": {
    "name": "ipython",
    "version": 3
   },
   "file_extension": ".py",
   "mimetype": "text/x-python",
   "name": "python",
   "nbconvert_exporter": "python",
   "pygments_lexer": "ipython3",
   "version": "3.6.8"
  }
 },
 "nbformat": 4,
 "nbformat_minor": 2
}
